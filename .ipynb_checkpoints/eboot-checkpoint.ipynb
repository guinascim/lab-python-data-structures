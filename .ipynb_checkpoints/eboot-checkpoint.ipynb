{
 "cells": [
  {
   "cell_type": "markdown",
   "metadata": {
    "colab_type": "text",
    "id": "view-in-github"
   },
   "source": [
    "<a href=\"https://colab.research.google.com/github/guinascim/lab-python-data-structures/blob/main/Escape_room.ipynb\" target=\"_parent\"><img src=\"https://colab.research.google.com/assets/colab-badge.svg\" alt=\"Open In Colab\"/></a>"
   ]
  },
  {
   "cell_type": "code",
   "execution_count": 19,
   "metadata": {
    "colab": {
     "base_uri": "https://localhost:8080/",
     "height": 245
    },
    "id": "j_5nlWOlB7tc",
    "outputId": "9f5151c2-fa10-4623-d532-89d7dd526b8b"
   },
   "outputs": [],
   "source": [
    "#Escape room code\n",
    "\n",
    "game_room = {'name' : 'game_room',\n",
    "         'type' : 'room',}\n",
    "couch = {'name' : 'couch',\n",
    "         'type' : 'furniture',}\n",
    "piano = {'name' : 'piano',\n",
    "         'type' : 'furniture',}\n",
    "doorA = {'name' : 'doorA',\n",
    "         'type' : 'door',}\n",
    "keyA = {'name' : 'keyA',\n",
    "        'type' : 'key',\n",
    "        'target' : doorA,}\n",
    "bedroom1 = {'name' : 'bedroom1',\n",
    "         'type' : 'room',}\n",
    "queen_bed = {'name' : 'queen_bed',\n",
    "             'type' : 'furniture',}\n",
    "doorB = {'name' : 'doorB',\n",
    "         'type' : 'door',}\n",
    "keyB = {'name' : 'keyB',\n",
    "        'type' : 'key',\n",
    "         'target' : doorB,}\n",
    "doorC = {'name' : 'doorC',\n",
    "         'type' : 'door',}\n",
    "bedroom2 = {'name' : 'bedroom2',\n",
    "         'type' : 'room',}\n",
    "double_bed = {'name' : 'double_bed',\n",
    "             'type' : 'furniture',}\n",
    "keyC = {'name' : 'keyC',\n",
    "        'type' : 'key',\n",
    "         'target' : doorC,}\n",
    "dresser = {'name' : 'dresser',\n",
    "            'type' : 'furniture',}\n",
    "doorD = {'name' : 'doorD',\n",
    "         'type' : 'door',}\n",
    "keyD = {'name' : 'keyD',\n",
    "        'type' : 'key',\n",
    "         'target' : doorD,}\n",
    "living_room = {'name' : 'living_room',\n",
    "         'type' : 'room',}\n",
    "dining_table = {'name' : 'dining_table',\n",
    "                'type' : 'furniture',}\n",
    "outside = {'name' : 'outside'}\n",
    "\n",
    "all_rooms = [game_room, bedroom1, bedroom2, living_room, outside]\n",
    "all_doors = [doorA, doorB, doorC, doorD]\n",
    "\n",
    "connections = {\n",
    "       'game_room' : [couch, piano, keyA, doorA],\n",
    "       'bedroom1' : [queen_bed, doorA, doorB, doorC, keyB],\n",
    "       'bedroom2' : [double_bed, doorB, dresser, keyC, keyD],\n",
    "       'living_room' : [dining_table, doorC, doorD],\n",
    "       'piano' : [keyA],\n",
    "       'doorA' : [game_room, bedroom1],\n",
    "       'queen_bed' : [keyB],\n",
    "       'doorB' : [bedroom1, bedroom2],\n",
    "       'doorC' : [bedroom1, living_room],\n",
    "       'double_bed' : [keyC],\n",
    "       'dresser' : [keyD],\n",
    "       'doorD' : [living_room, outside],\n",
    "       'outside' : [doorD]\n",
    "        }\n",
    "target_room = outside\n",
    "init_game_state = { 'current_room' : game_room,\n",
    "              'keys_collected' : [],\n",
    "              'target_room' : target_room\n",
    "              }\n"
   ]
  },
  {
   "cell_type": "code",
   "execution_count": 20,
   "metadata": {
    "id": "rw9WljrLaimo"
   },
   "outputs": [],
   "source": [
    "def play_room(room):\n",
    "    game_state['current_room'] = room\n",
    "    if game_state['current_room'] == game_state['target_room']:\n",
    "        print('Are you happy now?! you escaped.')\n",
    "    else:\n",
    "        print(\"You are now in \" + room[\"name\"])\n",
    "        intended_action = input(\"What would you like to do? Type 'explore' or 'examine'?\").strip()\n",
    "        if intended_action == \"explore\":\n",
    "            explore(room)\n",
    "            play_room(room)\n",
    "        elif intended_action == \"examine\":\n",
    "            examine_item(input(\"What would you like to examine?\").strip())\n",
    "        else:\n",
    "            print(\"Not sure what you mean. Type 'explore' or 'examine'.\")\n",
    "            play_room(room)\n",
    "def explore(room):\n",
    "    \"\"\"\n",
    "    Explore a room. List all items belonging to this room.\n",
    "    \"\"\"\n",
    "    items = [i[\"name\"] for i in connections[room[\"name\"]]]\n",
    "    print(\"You explore the room. This is \" + room[\"name\"] + \". You find \" + \", \".join(items))\n",
    "#def explore(room):\n",
    "#    room_name = room['name']\n",
    "#    items = ', '.join([item['name'] for item in connections[room_name]])\n",
    "##    print(f'You explore {room_name}. You find {items}')\n",
    "#    choice = input(\"And now, would you like to explore or examine? \").lower()\n",
    "#    if choice == 'explore':\n",
    "#        explore(room)\n",
    "#    elif choice == 'examine':\n",
    "#        examine(room)\n",
    "#    else:\n",
    "#        print('Please choose a valid option')\n",
    "#        explore(room)\n",
    "def examine_item(item_name):\n",
    "    \"\"\"\n",
    "    Examine an item which can be a door or furniture.\n",
    "    First make sure the intended item belongs to the current room.\n",
    "    Then check if the item is a door. Tell player if key hasn't been\n",
    "    collected yet. Otherwise ask player if they want to go to the next\n",
    "    room. If the item is not a door, then check if it contains keys.\n",
    "    Collect the key if found and update the game state. At the end,\n",
    "    play either the current or the next room depending on the game state\n",
    "    to keep playing.\n",
    "    \"\"\"\n",
    "    current_room = game_state[\"current_room\"]\n",
    "    next_room = \"\"\n",
    "    output = None\n",
    "\n",
    "    for item in connections[current_room[\"name\"]]:\n",
    "        if(item[\"name\"] == item_name):\n",
    "            output = \"You examine \" + item_name + \". \"\n",
    "            if(item[\"type\"] == \"door\"):\n",
    "                have_key = False\n",
    "                for key in game_state[\"keys_collected\"]:\n",
    "                    if(key[\"target\"] == item):\n",
    "                        have_key = True\n",
    "                if(have_key):\n",
    "                    output += \"You unlock it with a key you have.\"\n",
    "                    next_room = get_next_room_of_door(item, current_room)\n",
    "                else:\n",
    "                    output += \"It is locked but you don't have the key.\"\n",
    "            else:\n",
    "                if(item[\"name\"] in connections and len(connections[item[\"name\"]])>0):\n",
    "                    item_found = connections[item[\"name\"]].pop()\n",
    "                    game_state[\"keys_collected\"].append(item_found)\n",
    "                    output += \"You find \" + item_found[\"name\"] + \".\"\n",
    "                else:\n",
    "                    output += \"There isn't anything interesting about it.\"\n",
    "            print(output)\n",
    "            break\n",
    "\n",
    "    if(output is None):\n",
    "        print(\"The item you requested is not found in the current room.\")\n",
    "\n",
    "    if(next_room and input(\"Do you want to go to the next room? Enter 'yes' or 'no'\").strip() == 'yes'):\n",
    "        play_room(next_room)\n",
    "    else:\n",
    "        play_room(current_room)\n",
    "def get_next_room_of_door(door, current_room):\n",
    "    \"\"\"\n",
    "    From object_relations, find the two rooms connected to the given door.\n",
    "    Return the room that is not the current_room.\n",
    "    \"\"\"\n",
    "    connected_rooms = connections[door[\"name\"]]\n",
    "    for room in connected_rooms:\n",
    "        if(not current_room == room):\n",
    "            return room\n",
    "def wake_up():\n",
    "    print('Suddenly, you find yourself waking up on an unfamiliar couch, in an eerie house devoid of windows. Your memory fails to provide any explanation about how you ended up here, or what transpired previously. You can sense an imminent threat lurking somewhere - your gut tells you to escape the house immediately!')\n",
    "    print('You look around and realize you’re in a game room.')\n",
    "    print('“What should I do?” you ponder.')\n",
    "    start = input('Do you want to play the game? YES/NO ').upper()\n",
    "    if start == 'YES':\n",
    "        play_room(game_state['current_room'])\n",
    "    elif start == 'NO':\n",
    "        print(\"Come back when you're not scared.\")\n",
    "    else:\n",
    "        print('Please choose a valid option') \n",
    "        wake_up()"
   ]
  },
  {
   "cell_type": "code",
   "execution_count": null,
   "metadata": {
    "colab": {
     "base_uri": "https://localhost:8080/"
    },
    "id": "JFHawfiJ_c7W",
    "outputId": "4f9c33a2-06ae-4a51-8880-663d32c330f8"
   },
   "outputs": [
    {
     "name": "stdout",
     "output_type": "stream",
     "text": [
      "Suddenly, you find yourself waking up on an unfamiliar couch, in an eerie house devoid of windows. Your memory fails to provide any explanation about how you ended up here, or what transpired previously. You can sense an imminent threat lurking somewhere - your gut tells you to escape the house immediately!\n",
      "You look around and realize you’re in a game room.\n",
      "“What should I do?” you ponder.\n"
     ]
    }
   ],
   "source": [
    "game_state = init_game_state.copy()\n",
    "wake_up()"
   ]
  },
  {
   "cell_type": "code",
   "execution_count": null,
   "metadata": {
    "id": "vHTor76v-Uji"
   },
   "outputs": [],
   "source": []
  }
 ],
 "metadata": {
  "celltoolbar": "Raw Cell Format",
  "colab": {
   "include_colab_link": true,
   "provenance": []
  },
  "kernelspec": {
   "display_name": "Python 3 (ipykernel)",
   "language": "python",
   "name": "python3"
  },
  "language_info": {
   "codemirror_mode": {
    "name": "ipython",
    "version": 3
   },
   "file_extension": ".py",
   "mimetype": "text/x-python",
   "name": "python",
   "nbconvert_exporter": "python",
   "pygments_lexer": "ipython3",
   "version": "3.11.5"
  }
 },
 "nbformat": 4,
 "nbformat_minor": 1
}
