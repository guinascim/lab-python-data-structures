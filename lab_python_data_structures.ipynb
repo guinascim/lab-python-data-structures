{
  "cells": [
    {
      "cell_type": "markdown",
      "metadata": {
        "tags": [],
        "id": "yMt0NJwDKphk"
      },
      "source": [
        "# Lab | Data Structures"
      ]
    },
    {
      "cell_type": "markdown",
      "metadata": {
        "id": "mQp4dzdHKphm"
      },
      "source": [
        "## Exercise: Managing Customer Orders\n",
        "\n",
        "As part of a business venture, you are starting an online store that sells various products. To ensure smooth operations, you need to develop a program that manages customer orders and inventory.\n",
        "\n",
        "Follow the steps below to complete the exercise:\n",
        "\n",
        "1. Define a list called `products` that contains the following items: \"t-shirt\", \"mug\", \"hat\", \"book\", \"keychain\".\n",
        "\n",
        "2. Create an empty dictionary called `inventory`.\n",
        "\n",
        "3. Ask the user to input the quantity of each product available in the inventory. Use the product names from the `products` list as keys in the `inventory` dictionary and assign the respective quantities as values.\n",
        "\n",
        "4. Create an empty set called `customer_orders`.\n",
        "\n",
        "5. Ask the user to input the name of three products that a customer wants to order (from those in the products list, meaning three products out of \"t-shirt\", \"mug\", \"hat\", \"book\" or \"keychain\". Add each product name to the `customer_orders` set.\n",
        "\n",
        "6. Print the products in the `customer_orders` set.\n",
        "\n",
        "7. Calculate the following order statistics:\n",
        "   - Total Products Ordered: The total number of products in the `customer_orders` set.\n",
        "   - Percentage of Products Ordered: The percentage of products ordered compared to the total available products.\n",
        "   \n",
        "   Store these statistics in a tuple called `order_status`.\n",
        "\n",
        "8. Print the order statistics using the following format:\n",
        "   ```\n",
        "   Order Statistics:\n",
        "   Total Products Ordered: <total_products_ordered>\n",
        "   Percentage of Products Ordered: <percentage_ordered>%\n",
        "   ```\n",
        "\n",
        "9. Update the inventory by subtracting 1 from the quantity of each product. Modify the `inventory` dictionary accordingly.\n",
        "\n",
        "10. Print the updated inventory, displaying the quantity of each product on separate lines.\n",
        "\n",
        "Solve the exercise by implementing the steps using the Python concepts of lists, dictionaries, sets, and basic input/output operations."
      ]
    },
    {
      "cell_type": "code",
      "source": [
        "#Define a list called products that contains the following items: \"t-shirt\", \"mug\", \"hat\", \"book\", \"keychain\".\n",
        "\n",
        "#Create an empty dictionary called inventory.\n",
        "\n",
        "#Ask the user to input the quantity of each product available in the inventory. Use the product names from the products list as keys in the inventory dictionary and assign the respective quantities as values.\n",
        "\n",
        "#Create an empty set called customer_orders.\n",
        "\n",
        "#Ask the user to input the name of three products that a customer wants to order (from those in the products list,\n",
        "#meaning three products out of \"t-shirt\", \"mug\", \"hat\", \"book\" or \"keychain\". Add each product name to the customer_orders set.\n",
        "\n",
        "#Print the products in the customer_orders set.\n",
        "\n",
        "#Calculate the following order statistics:\n",
        "#Total Products Ordered: ---------The total number of products in the customer_orders set.\n",
        "#Percentage of Products Ordered: The percentage of products ordered compared to the total available products.\n",
        "#Store these statistics in a tuple called order_status.\n",
        "\n",
        "\n",
        "my_products = [\"t-shirt\", \"mug\", \"hat\", \"book\", \"keychain\"]\n",
        "\n",
        "inventory = ((my_products))\n",
        "\n",
        "tshirt = input(\"t-shirt: \")\n",
        "mug = input(\"mug: \")\n",
        "hat = input(\"hat: \")\n",
        "book = input(\"book: \")\n",
        "keychain = input(\"keychain: \")\n",
        "\n",
        "customer_orders = {'t-shirt', 'mug', 'hat', 'book', 'keychain'}\n",
        "\n",
        "wishlist = input(\"What would you like to order?\")\n",
        "\n",
        "wishlist = customer_orders\n",
        "\n",
        "print(customer_orders)\n",
        "\n",
        "\n",
        "\n",
        "\n",
        "\n",
        "print(\"Order Statistics:\")"
      ],
      "metadata": {
        "id": "ymh5wDC_K3lU",
        "outputId": "e02cc011-0ef7-4733-e691-f6bba6b6123d",
        "colab": {
          "base_uri": "https://localhost:8080/"
        }
      },
      "execution_count": 8,
      "outputs": [
        {
          "output_type": "stream",
          "name": "stdout",
          "text": [
            "t-shirt: 1\n",
            "mug: 2\n",
            "hat: 3\n",
            "book: 2\n",
            "keychain: 1\n",
            "What would you like to order?mug, book, hat\n",
            "{'mug', 'book', 't-shirt', 'keychain', 'hat'}\n"
          ]
        }
      ]
    }
  ],
  "metadata": {
    "kernelspec": {
      "display_name": "Python 3 (ipykernel)",
      "language": "python",
      "name": "python3"
    },
    "language_info": {
      "codemirror_mode": {
        "name": "ipython",
        "version": 3
      },
      "file_extension": ".py",
      "mimetype": "text/x-python",
      "name": "python",
      "nbconvert_exporter": "python",
      "pygments_lexer": "ipython3",
      "version": "3.9.13"
    },
    "colab": {
      "provenance": []
    }
  },
  "nbformat": 4,
  "nbformat_minor": 0
}