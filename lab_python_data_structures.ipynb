{
  "cells": [
    {
      "cell_type": "markdown",
      "metadata": {
        "tags": [],
        "id": "yMt0NJwDKphk"
      },
      "source": [
        "# Lab | Data Structures"
      ]
    },
    {
      "cell_type": "markdown",
      "metadata": {
        "id": "mQp4dzdHKphm"
      },
      "source": [
        "## Exercise: Managing Customer Orders\n",
        "\n",
        "As part of a business venture, you are starting an online store that sells various products. To ensure smooth operations, you need to develop a program that manages customer orders and inventory.\n",
        "\n",
        "Follow the steps below to complete the exercise:\n",
        "\n",
        "1. Define a list called `products` that contains the following items: \"t-shirt\", \"mug\", \"hat\", \"book\", \"keychain\".\n",
        "\n",
        "2. Create an empty dictionary called `inventory`.\n",
        "\n",
        "3. Ask the user to input the quantity of each product available in the inventory. Use the product names from the `products` list as keys in the `inventory` dictionary and assign the respective quantities as values.\n",
        "\n",
        "4. Create an empty set called `customer_orders`.\n",
        "\n",
        "5. Ask the user to input the name of three products that a customer wants to order (from those in the products list, meaning three products out of \"t-shirt\", \"mug\", \"hat\", \"book\" or \"keychain\". Add each product name to the `customer_orders` set.\n",
        "\n",
        "6. Print the products in the `customer_orders` set.\n",
        "\n",
        "7. Calculate the following order statistics:\n",
        "   - Total Products Ordered: The total number of products in the `customer_orders` set.\n",
        "   - Percentage of Products Ordered: The percentage of products ordered compared to the total available products.\n",
        "   \n",
        "   Store these statistics in a tuple called `order_status`.\n",
        "\n",
        "8. Print the order statistics using the following format:\n",
        "   ```\n",
        "   Order Statistics:\n",
        "   Total Products Ordered: <total_products_ordered>\n",
        "   Percentage of Products Ordered: <percentage_ordered>%\n",
        "   ```\n",
        "\n",
        "9. Update the inventory by subtracting 1 from the quantity of each product. Modify the `inventory` dictionary accordingly.\n",
        "\n",
        "10. Print the updated inventory, displaying the quantity of each product on separate lines.\n",
        "\n",
        "Solve the exercise by implementing the steps using the Python concepts of lists, dictionaries, sets, and basic input/output operations."
      ]
    },
    {
      "cell_type": "code",
      "source": [
        "\n",
        "\n",
        "my_products = [\"tshirt\", \"mug\", \"hat\", \"book\", \"keychain\"]\n",
        "\n",
        "\n",
        "inventory = {}\n",
        "\n",
        "for product in my_products:\n",
        "    quantity = int(input(f\"Enter the quantity of {product}: \"))\n",
        "    inventory[product] = quantity\n",
        "\n",
        "customer_orders = set()\n",
        "\n",
        "for item in range(3):\n",
        "    order = input(f\"Make your order {item + 1}: \")\n",
        "    if order in my_products:\n",
        "      customer_orders.add(order)\n",
        "\n",
        "print(\"Product ordered:\")\n",
        "print(customer_orders)\n",
        "\n",
        "total= len(customer_orders)\n",
        "\n",
        "percentage= (total / len(my_products)) * 100\n",
        "\n",
        "order_status = (total, percentage)\n",
        "\n",
        "print(\"Order Statistics:\")\n",
        "print(f\"Total Products Ordered: {order_status[0]}\")\n",
        "print(f\"Percentage of Products Ordered: {order_status[1]:.2f}%\")\n",
        "\n",
        "for product in inventory:\n",
        "    inventory[product] -= 1\n",
        "\n",
        "print(\"Updated Inventory:\")\n",
        "for product, quantity in inventory.items():\n",
        "    print(f\"{product}: {quantity}\")\n",
        "\n"
      ],
      "metadata": {
        "id": "ymh5wDC_K3lU",
        "outputId": "e7c43b5f-cad9-490e-fbad-4a3f04b6b1b2",
        "colab": {
          "base_uri": "https://localhost:8080/"
        }
      },
      "execution_count": 2,
      "outputs": [
        {
          "output_type": "stream",
          "name": "stdout",
          "text": [
            "Enter the quantity of tshirt: 2\n",
            "Enter the quantity of mug: 2\n",
            "Enter the quantity of hat: 2\n",
            "Enter the quantity of book: 2\n",
            "Enter the quantity of keychain: 2\n",
            "Make your order 1: mug\n",
            "Make your order 2: hat\n",
            "Make your order 3: book\n",
            "Product ordered:\n",
            "{'book', 'hat', 'mug'}\n",
            "Order Statistics:\n",
            "Total Products Ordered: 3\n",
            "Percentage of Products Ordered: 60.00%\n",
            "Updated Inventory:\n",
            "tshirt: 1\n",
            "mug: 1\n",
            "hat: 1\n",
            "book: 1\n",
            "keychain: 1\n"
          ]
        }
      ]
    },
    {
      "cell_type": "code",
      "source": [],
      "metadata": {
        "id": "eJw3xKp1ckkZ"
      },
      "execution_count": null,
      "outputs": []
    }
  ],
  "metadata": {
    "kernelspec": {
      "display_name": "Python 3 (ipykernel)",
      "language": "python",
      "name": "python3"
    },
    "language_info": {
      "codemirror_mode": {
        "name": "ipython",
        "version": 3
      },
      "file_extension": ".py",
      "mimetype": "text/x-python",
      "name": "python",
      "nbconvert_exporter": "python",
      "pygments_lexer": "ipython3",
      "version": "3.9.13"
    },
    "colab": {
      "provenance": []
    }
  },
  "nbformat": 4,
  "nbformat_minor": 0
}